{
 "cells": [
  {
   "cell_type": "code",
   "execution_count": 175,
   "metadata": {
    "collapsed": true
   },
   "outputs": [],
   "source": [
    "import numpy as np\n",
    "import torch\n",
    "from torch import nn\n",
    "from torch.utils.data import DataLoader\n",
    "from torchvision import datasets\n",
    "from torchvision.transforms import ToTensor"
   ]
  },
  {
   "cell_type": "code",
   "execution_count": 176,
   "outputs": [],
   "source": [
    "# Download training data from open datasets.\n",
    "training_data = datasets.FashionMNIST(\n",
    "    root=\"data\",\n",
    "    train=True,\n",
    "    download=True,\n",
    "    transform=ToTensor(),\n",
    ")\n",
    "\n",
    "# Download test data from open datasets.\n",
    "test_data = datasets.FashionMNIST(\n",
    "    root=\"data\",\n",
    "    train=False,\n",
    "    download=True,\n",
    "    transform=ToTensor(),\n",
    ")"
   ],
   "metadata": {
    "collapsed": false,
    "pycharm": {
     "name": "#%%\n"
    }
   }
  },
  {
   "cell_type": "code",
   "execution_count": 177,
   "outputs": [
    {
     "name": "stdout",
     "output_type": "stream",
     "text": [
      "Shape of X [N, C, H, W]: torch.Size([64, 1, 28, 28])\n",
      "Shape of y: torch.Size([64]) torch.int64\n"
     ]
    }
   ],
   "source": [
    "batch_size = 64\n",
    "\n",
    "# Create data loaders.\n",
    "train_dataloader = DataLoader(training_data, batch_size=batch_size)\n",
    "test_dataloader = DataLoader(test_data, batch_size=batch_size)\n",
    "\n",
    "for X, y in test_dataloader:\n",
    "    print(f\"Shape of X [N, C, H, W]: {X.shape}\")\n",
    "    print(f\"Shape of y: {y.shape} {y.dtype}\")\n",
    "    break"
   ],
   "metadata": {
    "collapsed": false,
    "pycharm": {
     "name": "#%%\n"
    }
   }
  },
  {
   "cell_type": "code",
   "execution_count": 178,
   "outputs": [
    {
     "name": "stdout",
     "output_type": "stream",
     "text": [
      "Using cuda device\n",
      "----------------------------------------------------------------\n",
      "        Layer (type)               Output Shape         Param #\n",
      "================================================================\n",
      "           Flatten-1                  [-1, 784]               0\n",
      "            Linear-2                  [-1, 512]         401,920\n",
      "              ReLU-3                  [-1, 512]               0\n",
      "            Linear-4                  [-1, 512]         262,656\n",
      "              ReLU-5                  [-1, 512]               0\n",
      "            Linear-6                   [-1, 10]           5,130\n",
      "================================================================\n",
      "Total params: 669,706\n",
      "Trainable params: 669,706\n",
      "Non-trainable params: 0\n",
      "----------------------------------------------------------------\n",
      "Input size (MB): 0.00\n",
      "Forward/backward pass size (MB): 0.02\n",
      "Params size (MB): 2.55\n",
      "Estimated Total Size (MB): 2.58\n",
      "----------------------------------------------------------------\n"
     ]
    }
   ],
   "source": [
    "# Get cpu or gpu device for training.\n",
    "device = \"cuda\" if torch.cuda.is_available() else \"cpu\"\n",
    "print(f\"Using {device} device\")\n",
    "\n",
    "# Define model\n",
    "class NeuralNetwork(nn.Module):\n",
    "    def __init__(self):\n",
    "        super(NeuralNetwork, self).__init__()\n",
    "        self.flatten = nn.Flatten()\n",
    "        self.linear_relu_stack = nn.Sequential(\n",
    "            nn.Linear(28*28, 512),\n",
    "            nn.ReLU(),\n",
    "            nn.Linear(512, 512),\n",
    "            nn.ReLU(),\n",
    "            nn.Linear(512, 10)\n",
    "        )\n",
    "\n",
    "    def forward(self, x):\n",
    "        x = self.flatten(x)\n",
    "        logits = self.linear_relu_stack(x)\n",
    "        return logits\n",
    "\n",
    "model = NeuralNetwork().to(device)\n",
    "from torchsummary import summary\n",
    "for p in model.parameters():\n",
    "    p = torch.tensor(np.random.normal(0,0.1,p.size()))\n",
    "summary(model.to('cuda'), (1,28,28))"
   ],
   "metadata": {
    "collapsed": false,
    "pycharm": {
     "name": "#%%\n"
    }
   }
  },
  {
   "cell_type": "code",
   "execution_count": 179,
   "outputs": [],
   "source": [
    "loss_fn = nn.CrossEntropyLoss()\n",
    "optimizer = torch.optim.SGD(model.parameters(), lr=0.01, momentum=0.9)"
   ],
   "metadata": {
    "collapsed": false,
    "pycharm": {
     "name": "#%%\n"
    }
   }
  },
  {
   "cell_type": "code",
   "execution_count": 180,
   "outputs": [],
   "source": [
    "def train(dataloader, model, loss_fn, optimizer):\n",
    "    loss_list = []\n",
    "    size = len(dataloader.dataset)\n",
    "    model.train()\n",
    "    for batch, (X, y) in enumerate(dataloader):\n",
    "        X, y = X.to(device), y.to(device)\n",
    "\n",
    "        # Compute prediction error\n",
    "        pred = model(X)\n",
    "        loss = loss_fn(pred, y)\n",
    "        loss_list.append(loss.item())\n",
    "        # Backpropagation\n",
    "        optimizer.zero_grad()\n",
    "        loss.backward()\n",
    "        optimizer.step()\n",
    "\n",
    "        if batch % 100 == 0:\n",
    "            loss, current = loss.item(), batch * len(X)\n",
    "            print(f\"loss: {np.mean(loss_list):>7f}  [{current:>5d}/{size:>5d}]\")"
   ],
   "metadata": {
    "collapsed": false,
    "pycharm": {
     "name": "#%%\n"
    }
   }
  },
  {
   "cell_type": "code",
   "execution_count": 181,
   "outputs": [],
   "source": [
    "def test(dataloader, model, loss_fn):\n",
    "    size = len(dataloader.dataset)\n",
    "    num_batches = len(dataloader)\n",
    "    model.eval()\n",
    "    test_loss, correct = 0, 0\n",
    "    with torch.no_grad():\n",
    "        for X, y in dataloader:\n",
    "            X, y = X.to(device), y.to(device)\n",
    "            pred = model(X)\n",
    "            test_loss += loss_fn(pred, y).item()\n",
    "            correct += (pred.argmax(1) == y).type(torch.float).sum().item()\n",
    "    test_loss /= num_batches\n",
    "    correct /= size\n",
    "    print(f\"Test Error: \\n Accuracy: {(100*correct):>0.1f}%, Avg loss: {test_loss:>8f} \\n\")"
   ],
   "metadata": {
    "collapsed": false,
    "pycharm": {
     "name": "#%%\n"
    }
   }
  },
  {
   "cell_type": "code",
   "execution_count": 182,
   "outputs": [
    {
     "name": "stdout",
     "output_type": "stream",
     "text": [
      "Epoch 1\n",
      "-------------------------------\n",
      "loss: 2.314523  [    0/60000]\n",
      "loss: 1.488858  [ 6400/60000]\n",
      "loss: 1.120572  [12800/60000]\n",
      "loss: 0.955373  [19200/60000]\n",
      "loss: 0.862698  [25600/60000]\n",
      "loss: 0.798081  [32000/60000]\n",
      "loss: 0.750142  [38400/60000]\n",
      "loss: 0.712904  [44800/60000]\n",
      "loss: 0.685233  [51200/60000]\n",
      "loss: 0.662079  [57600/60000]\n",
      "Epoch 2\n",
      "-------------------------------\n",
      "loss: 0.346890  [    0/60000]\n",
      "loss: 0.445479  [ 6400/60000]\n",
      "loss: 0.443890  [12800/60000]\n",
      "loss: 0.440897  [19200/60000]\n",
      "loss: 0.437576  [25600/60000]\n",
      "loss: 0.432765  [32000/60000]\n",
      "loss: 0.429694  [38400/60000]\n",
      "loss: 0.425733  [44800/60000]\n",
      "loss: 0.423639  [51200/60000]\n",
      "loss: 0.422211  [57600/60000]\n",
      "Epoch 3\n",
      "-------------------------------\n",
      "loss: 0.296044  [    0/60000]\n",
      "loss: 0.383469  [ 6400/60000]\n",
      "loss: 0.379660  [12800/60000]\n",
      "loss: 0.380476  [19200/60000]\n",
      "loss: 0.379969  [25600/60000]\n",
      "loss: 0.376340  [32000/60000]\n",
      "loss: 0.374828  [38400/60000]\n",
      "loss: 0.372725  [44800/60000]\n",
      "loss: 0.371879  [51200/60000]\n",
      "loss: 0.372101  [57600/60000]\n",
      "Epoch 4\n",
      "-------------------------------\n",
      "loss: 0.284806  [    0/60000]\n",
      "loss: 0.348853  [ 6400/60000]\n",
      "loss: 0.345346  [12800/60000]\n",
      "loss: 0.346971  [19200/60000]\n",
      "loss: 0.346890  [25600/60000]\n",
      "loss: 0.343858  [32000/60000]\n",
      "loss: 0.343086  [38400/60000]\n",
      "loss: 0.341483  [44800/60000]\n",
      "loss: 0.340992  [51200/60000]\n",
      "loss: 0.341940  [57600/60000]\n",
      "Epoch 5\n",
      "-------------------------------\n",
      "loss: 0.261467  [    0/60000]\n",
      "loss: 0.324345  [ 6400/60000]\n",
      "loss: 0.321325  [12800/60000]\n",
      "loss: 0.323221  [19200/60000]\n",
      "loss: 0.323421  [25600/60000]\n",
      "loss: 0.320837  [32000/60000]\n",
      "loss: 0.320207  [38400/60000]\n",
      "loss: 0.318936  [44800/60000]\n",
      "loss: 0.318583  [51200/60000]\n",
      "loss: 0.319706  [57600/60000]\n",
      "Epoch 6\n",
      "-------------------------------\n",
      "loss: 0.240336  [    0/60000]\n",
      "loss: 0.303472  [ 6400/60000]\n",
      "loss: 0.301870  [12800/60000]\n",
      "loss: 0.304106  [19200/60000]\n",
      "loss: 0.304064  [25600/60000]\n",
      "loss: 0.301834  [32000/60000]\n",
      "loss: 0.301466  [38400/60000]\n",
      "loss: 0.300377  [44800/60000]\n",
      "loss: 0.300095  [51200/60000]\n",
      "loss: 0.301433  [57600/60000]\n",
      "Epoch 7\n",
      "-------------------------------\n",
      "loss: 0.222044  [    0/60000]\n",
      "loss: 0.288040  [ 6400/60000]\n",
      "loss: 0.286859  [12800/60000]\n",
      "loss: 0.288906  [19200/60000]\n",
      "loss: 0.288987  [25600/60000]\n",
      "loss: 0.286715  [32000/60000]\n",
      "loss: 0.286476  [38400/60000]\n",
      "loss: 0.285514  [44800/60000]\n",
      "loss: 0.285135  [51200/60000]\n",
      "loss: 0.286449  [57600/60000]\n",
      "Epoch 8\n",
      "-------------------------------\n",
      "loss: 0.199488  [    0/60000]\n",
      "loss: 0.273886  [ 6400/60000]\n",
      "loss: 0.272719  [12800/60000]\n",
      "loss: 0.274064  [19200/60000]\n",
      "loss: 0.274218  [25600/60000]\n",
      "loss: 0.272060  [32000/60000]\n",
      "loss: 0.272010  [38400/60000]\n",
      "loss: 0.271258  [44800/60000]\n",
      "loss: 0.271004  [51200/60000]\n",
      "loss: 0.272395  [57600/60000]\n",
      "Done!\n"
     ]
    }
   ],
   "source": [
    "epochs = 8\n",
    "for t in range(epochs):\n",
    "    print(f\"Epoch {t+1}\\n-------------------------------\")\n",
    "    train(train_dataloader, model, loss_fn, optimizer)\n",
    "print(\"Done!\")"
   ],
   "metadata": {
    "collapsed": false,
    "pycharm": {
     "name": "#%%\n"
    }
   }
  },
  {
   "cell_type": "code",
   "execution_count": 183,
   "outputs": [],
   "source": [
    "#test(test_dataloader, model, loss_fn)"
   ],
   "metadata": {
    "collapsed": false,
    "pycharm": {
     "name": "#%%\n"
    }
   }
  },
  {
   "cell_type": "code",
   "execution_count": 184,
   "outputs": [],
   "source": [
    "# TRAIN WITH PSO"
   ],
   "metadata": {
    "collapsed": false,
    "pycharm": {
     "name": "#%%\n"
    }
   }
  },
  {
   "cell_type": "code",
   "execution_count": 185,
   "outputs": [],
   "source": [
    "from Optimizer.optimizer import Optimizer\n",
    "model = NeuralNetwork().to('cuda')\n",
    "optimizer = Optimizer(model, 30, inertial_weight=0.9, self_conf=0.01, swarm_conf=1, norm=True)\n",
    "def train(dataloader, model, loss_fn, optimizer):\n",
    "    optimizer.epoch()\n",
    "    model.train()\n",
    "    size = len(dataloader.dataset)\n",
    "    for batch, (X, y) in enumerate(dataloader):\n",
    "        X, y = X.to(device), y.to(device)\n",
    "        # Compute prediction error\n",
    "        best_val = optimizer.step(X, y, loss_fn)\n",
    "\n",
    "        if batch % 100 == 0:\n",
    "            loss, current = best_val, batch * len(X)\n",
    "            print(f\"loss: {loss:>7f}  [{current:>5d}/{size:>5d}]\")"
   ],
   "metadata": {
    "collapsed": false,
    "pycharm": {
     "name": "#%%\n"
    }
   }
  },
  {
   "cell_type": "markdown",
   "source": [],
   "metadata": {
    "collapsed": false
   }
  },
  {
   "cell_type": "code",
   "execution_count": 186,
   "outputs": [
    {
     "name": "stdout",
     "output_type": "stream",
     "text": [
      "Epoch 1\n",
      "-------------------------------\n",
      "loss: 3.805709  [    0/60000]\n",
      "loss: 1.268615  [ 6400/60000]\n",
      "loss: 0.991739  [12800/60000]\n",
      "loss: 0.871994  [19200/60000]\n",
      "loss: 0.804148  [25600/60000]\n",
      "loss: 0.754171  [32000/60000]\n",
      "loss: 0.716750  [38400/60000]\n",
      "loss: 0.689124  [44800/60000]\n",
      "loss: 0.666710  [51200/60000]\n",
      "loss: 0.648675  [57600/60000]\n",
      "Epoch 2\n",
      "-------------------------------\n",
      "loss: 0.290570  [    0/60000]\n",
      "loss: 0.290570  [ 6400/60000]\n",
      "loss: 0.290570  [12800/60000]\n",
      "loss: 0.290570  [19200/60000]\n",
      "loss: 0.290570  [25600/60000]\n",
      "loss: 0.290570  [32000/60000]\n",
      "loss: 0.290570  [38400/60000]\n",
      "loss: 0.290570  [44800/60000]\n",
      "loss: 0.290570  [51200/60000]\n",
      "loss: 0.290570  [57600/60000]\n",
      "Done!\n"
     ]
    }
   ],
   "source": [
    "epochs = 2\n",
    "for t in range(epochs):\n",
    "    print(f\"Epoch {t+1}\\n-------------------------------\")\n",
    "    train(train_dataloader, model, loss_fn, optimizer)\n",
    "\n",
    "print(\"Done!\")"
   ],
   "metadata": {
    "collapsed": false,
    "pycharm": {
     "name": "#%%\n"
    }
   }
  },
  {
   "cell_type": "code",
   "execution_count": 187,
   "outputs": [
    {
     "name": "stdout",
     "output_type": "stream",
     "text": [
      "Test Error: \n",
      " Accuracy: 81.8%, Avg loss: 0.526548 \n",
      "\n"
     ]
    }
   ],
   "source": [
    "test(test_dataloader, model, loss_fn)"
   ],
   "metadata": {
    "collapsed": false,
    "pycharm": {
     "name": "#%%\n"
    }
   }
  },
  {
   "cell_type": "code",
   "execution_count": 187,
   "outputs": [],
   "source": [],
   "metadata": {
    "collapsed": false,
    "pycharm": {
     "name": "#%%\n"
    }
   }
  }
 ],
 "metadata": {
  "kernelspec": {
   "name": "python3",
   "language": "python",
   "display_name": "Python 3 (ipykernel)"
  },
  "language_info": {
   "codemirror_mode": {
    "name": "ipython",
    "version": 2
   },
   "file_extension": ".py",
   "mimetype": "text/x-python",
   "name": "python",
   "nbconvert_exporter": "python",
   "pygments_lexer": "ipython2",
   "version": "2.7.6"
  }
 },
 "nbformat": 4,
 "nbformat_minor": 0
}